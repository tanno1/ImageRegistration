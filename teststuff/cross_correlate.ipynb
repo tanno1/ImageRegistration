{
 "cells": [
  {
   "cell_type": "code",
   "execution_count": 2,
   "id": "0c892858",
   "metadata": {},
   "outputs": [],
   "source": [
    "# imports\n",
    "\n",
    "import numpy as np\n",
    "import matplotlib.pyplot as plt\n",
    "from skimage import data, io\n",
    "from skimage.registration import phase_cross_correlation\n",
    "from scipy.ndimage import shift\n",
    "import cv2"
   ]
  },
  {
   "cell_type": "code",
   "execution_count": 3,
   "id": "a89b998a",
   "metadata": {},
   "outputs": [
    {
     "name": "stdout",
     "output_type": "stream",
     "text": [
      "Detected subpixel offset (y, x): [1. 0.]\n",
      "<class 'numpy.dtype[uint16]'>\n",
      "1.0\n",
      "-1.5107874454850024e-17\n"
     ]
    },
    {
     "data": {
      "text/plain": [
       "True"
      ]
     },
     "execution_count": 3,
     "metadata": {},
     "output_type": "execute_result"
    }
   ],
   "source": [
    "# load the two images to correlate\n",
    "windOff = io.imread('04292025 AOA5 90kph Run6.mat_WindOff_ADF.tif') \n",
    "windOn = io.imread('04292025 AOA5 90kph Run6.mat_WindOn_ADF.tif')\n",
    "\n",
    "shifted, error, diffphase = phase_cross_correlation(windOff, windOn)\n",
    "print(f\"Detected subpixel offset (y, x): {shifted}\")        # shift vector to register windOn with windOff\n",
    "\n",
    "# perform the registration\n",
    "registered_windOn = shift(windOn, shift=(shifted[0], shifted[1]), mode='constant')\n",
    "print(type(registered_windOn.dtype))\n",
    "print(error)\n",
    "print(diffphase)\n",
    "\n",
    "# cv2.imshow('Registered Wind On Image', registered_windOn)\n",
    "# cv2.waitKey(0)\n",
    "# cv2.destroyAllWindows()\n",
    "cv2.imwrite('Run690KPH_CrossCorrelation.tif', registered_windOn)"
   ]
  }
 ],
 "metadata": {
  "kernelspec": {
   "display_name": "Python 3",
   "language": "python",
   "name": "python3"
  },
  "language_info": {
   "codemirror_mode": {
    "name": "ipython",
    "version": 3
   },
   "file_extension": ".py",
   "mimetype": "text/x-python",
   "name": "python",
   "nbconvert_exporter": "python",
   "pygments_lexer": "ipython3",
   "version": "3.10.6"
  }
 },
 "nbformat": 4,
 "nbformat_minor": 5
}
